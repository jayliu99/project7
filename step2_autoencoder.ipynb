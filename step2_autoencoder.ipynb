{
 "cells": [
  {
   "cell_type": "code",
   "execution_count": 1,
   "id": "6842459e",
   "metadata": {},
   "outputs": [],
   "source": [
    "# BMI 203 Project 7: Neural Network\n",
    "# Step 2: Generate an autoencoder\n",
    "\n",
    "'''\n",
    "- Generate an instance of your NeuralNetwork class for the 64x16x64 autoencoder\n",
    "- Read in toy dataset 'digits' from sklearn using digits = sklearn.datasets.load_digits()\n",
    "- Split the digits dataset into a train and a validation set\n",
    "- Train your autoencoder on the train split of your digits dataset\n",
    "- Plot your training and validation loss per epoch\n",
    "- Explain in your jupyter notebook why you chose the hyperparameter values that you did\n",
    "- Quantify your average reconstruction error over the dataset.\n",
    "'''\n",
    "\n",
    "# Import necessary dependencies here\n",
    "import numpy as np\n",
    "from nn import NeuralNetwork # for testing NN functions\n",
    "from sklearn.datasets import load_digits\n",
    "\n",
    "from sklearn.model_selection import train_test_split\n",
    "from matplotlib import pyplot as plt"
   ]
  },
  {
   "cell_type": "code",
   "execution_count": 2,
   "id": "d0684337",
   "metadata": {},
   "outputs": [],
   "source": [
    "# Generate an instance of your NeuralNetwork class for the 64x16x64 autoencoder\n",
    "arch = [{'input_dim': 64, 'output_dim': 16, 'activation': \"relu\"}, {'input_dim': 16, 'output_dim': 64, 'activation': \"relu\"}]\n",
    "my_nn = NeuralNetwork(arch, \n",
    "\t\t\t\t lr=0.01,\n",
    "\t\t\t\t seed=15,\n",
    "\t\t\t\t batch_size=10,\n",
    "\t\t\t\t epochs=5,\n",
    "\t\t\t\t loss_function=\"mse\")\n"
   ]
  },
  {
   "cell_type": "code",
   "execution_count": 3,
   "id": "6ea0d2e8",
   "metadata": {},
   "outputs": [],
   "source": [
    "# Read in toy dataset 'digits' from sklearn using digits = sklearn.datasets.load_digits()\n",
    "digits = load_digits()\n",
    "X = digits.data # shape (1797, 64)\n",
    "y = np.expand_dims(digits.target, axis=1) # shape (1797,1)"
   ]
  },
  {
   "cell_type": "code",
   "execution_count": 4,
   "id": "b6c782cc",
   "metadata": {},
   "outputs": [],
   "source": [
    "# Split the digits dataset into a train and a validation set\n",
    "\n",
    "# Shuffle the data\n",
    "shuffle_arr = np.concatenate([X, y], axis=1)\n",
    "np.random.shuffle(shuffle_arr)\n",
    "X = shuffle_arr[:, :-1]\n",
    "y = np.expand_dims(shuffle_arr[:, -1], axis=1)\n",
    "\n",
    "# Place 1/3 of dataset into validation\n",
    "# X_train.shape = (1203, 64)\n",
    "# y_train.shape = (1203, 64)\n",
    "# X_val.shape = (594, 64)\n",
    "# y_val.shape = (594, 64)\n",
    "\n",
    "# Since this is an autoencoder, we actually want the input (X) and output (y) to be the same\n",
    "X_train, X_val, y_train, y_val = train_test_split(X, X, test_size=0.33, random_state=42)\n",
    "\n"
   ]
  },
  {
   "cell_type": "code",
   "execution_count": 5,
   "id": "357455f2",
   "metadata": {},
   "outputs": [
    {
     "name": "stdout",
     "output_type": "stream",
     "text": [
      "Training epoch  1 ...\n",
      "Epoch  1  done!\n",
      "Training epoch  2 ...\n",
      "Epoch  2  done!\n",
      "Training epoch  3 ...\n",
      "Epoch  3  done!\n",
      "Training epoch  4 ...\n",
      "Epoch  4  done!\n",
      "Training epoch  5 ...\n",
      "Epoch  5  done!\n",
      "Training done!\n"
     ]
    }
   ],
   "source": [
    "# Train your autoencoder on the train split of your digits dataset\n",
    "per_epoch_loss_train, per_epoch_loss_val = my_nn.fit(X_train, y_train, X_val, X_val)"
   ]
  },
  {
   "cell_type": "code",
   "execution_count": 6,
   "id": "3e3e83e8",
   "metadata": {},
   "outputs": [
    {
     "name": "stdout",
     "output_type": "stream",
     "text": [
      "[1188.6063338172498, 50.157488164819675, 50.15451343904837, 50.15165651241761, 50.14891272008143]\n",
      "[1216.104631520878, 57.3766964012463, 57.37767104451486, 57.378682190680024, 57.379726892251654]\n"
     ]
    },
    {
     "data": {
      "image/png": "[encoded data removed]",
      "text/plain": [
       "<Figure size 432x288 with 1 Axes>"
      ]
     },
     "metadata": {
      "needs_background": "light"
     },
     "output_type": "display_data"
    },
    {
     "data": {
      "image/png": "[encoded data removed]",
      "text/plain": [
       "<Figure size 432x288 with 1 Axes>"
      ]
     },
     "metadata": {
      "needs_background": "light"
     },
     "output_type": "display_data"
    }
   ],
   "source": [
    "# Plot your training and validation loss per epoch\n",
    "print(per_epoch_loss_train)\n",
    "print(per_epoch_loss_val)\n",
    "plt.plot(per_epoch_loss_train)\n",
    "plt.title(\"Training Loss\")\n",
    "plt.xlabel(\"Epoch\")\n",
    "plt.ylabel(\"Loss\")\n",
    "plt.show()\n",
    "\n",
    "plt.plot(per_epoch_loss_val)\n",
    "plt.title(\"Validation Loss\")\n",
    "plt.xlabel(\"Epoch\")\n",
    "plt.ylabel(\"Loss\")\n",
    "plt.show()"
   ]
  },
  {
   "cell_type": "code",
   "execution_count": 7,
   "id": "870cdc06",
   "metadata": {},
   "outputs": [],
   "source": [
    "# Explain in your jupyter notebook why you chose the hyperparameter values that you did\n",
    "'''\n",
    "- For the loss function, I selected 'MSE'. 'BCE' would not have been appropriate since the output values were not between 0-1.\n",
    "- For similar reasons, I selected 'relu' instead of 'sigmoid' as the activation function. \n",
    "- The batch size was initialized to 10. A significantly higher batch size prevented the training and validation losses from decreasing.\n",
    "- The learning rate was initialized to 0.01. A lower learning rate prevented the losses from converging towards 0 \n",
    "in a reasonable amount of epochs.\n",
    "- After 1 epoch, it seemed like the loss on both training and validation sets had converged, so I didn't see the need to\n",
    "train for more than 5 epochs.\n",
    "\n",
    "'''\n",
    "pass"
   ]
  },
  {
   "cell_type": "code",
   "execution_count": 8,
   "id": "c8525ae1",
   "metadata": {},
   "outputs": [
    {
     "name": "stdout",
     "output_type": "stream",
     "text": [
      "3644.815797656219\n"
     ]
    }
   ],
   "source": [
    "# Quantify your average reconstruction error over the dataset.\n",
    "predict = my_nn.predict(X)\n",
    "\n",
    "# Average Reconstruction error (as measured by Euclidean distance between actual and predicted values)\n",
    "error = np.mean(np.sum(np.power(predict-X, 2), axis=1))\n",
    "\n",
    "print(error)"
   ]
  }
 ],
 "metadata": {
  "kernelspec": {
   "display_name": "Python 3",
   "language": "python",
   "name": "python3"
  },
  "language_info": {
   "codemirror_mode": {
    "name": "ipython",
    "version": 3
   },
   "file_extension": ".py",
   "mimetype": "text/x-python",
   "name": "python",
   "nbconvert_exporter": "python",
   "pygments_lexer": "ipython3",
   "version": "3.8.8"
  }
 },
 "nbformat": 4,
 "nbformat_minor": 5
}
