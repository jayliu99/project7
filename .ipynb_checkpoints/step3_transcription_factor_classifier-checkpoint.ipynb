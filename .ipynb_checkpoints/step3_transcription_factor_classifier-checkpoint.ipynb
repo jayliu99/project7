{
 "cells": [
  {
   "cell_type": "code",
   "execution_count": 1,
   "id": "4520ea8d",
   "metadata": {},
   "outputs": [],
   "source": [
    "# BMI 203 Project 7: Neural Network\n",
    "# Step 3: Generate a Transcription Factor Classifier\n",
    "\n",
    "'''\n",
    "- Use the 'read_text_file' function from preprocess.py to read in the 137 positive Rap1 motif examples\n",
    "- Use the 'read_fasta_file' function to read in all the negative examples from all 1kb upstream in yeast.\n",
    "- Implement a sampling scheme in the 'sample_seq' function in the preprocess.py file\n",
    "- Explain in your jupyter notebook why chose the sampling scheme that you did.\n",
    "- Generate a training and a validation set for training your classifier.\n",
    "- One hot encode your training and validation sets using your implementation of the 'one_hot_encode_seqs' function in the preprocess.py file\n",
    "- Train your neural network!\n",
    "- Explain your choice of loss function in the jupyter notebook\n",
    "- Explain your choice of hyperparameters in the jupyter notebook\n",
    "- Plot the training and validation loss curves per epoch\n",
    "- Print out the accuracy of your classifier on your validation dataset\n",
    "'''\n",
    "\n",
    "# Import necessary dependencies here\n",
    "import numpy as np\n",
    "from nn import io\n",
    "from nn import preprocess as pp\n",
    "from nn import NeuralNetwork # for testing NN functions\n",
    "\n",
    "from sklearn.model_selection import train_test_split\n",
    "from matplotlib import pyplot as plt\n",
    "from sklearn.metrics import confusion_matrix"
   ]
  },
  {
   "cell_type": "code",
   "execution_count": 2,
   "id": "c3741017",
   "metadata": {},
   "outputs": [],
   "source": [
    "# Use the 'read_text_file' function from io.py to read in the 137 positive Rap1 motif examples\n",
    "pos_seq_list = io.read_text_file('./data/rap1-lieb-positives.txt')\n",
    "\n",
    "# Use the 'read_fasta_file' function to read in all the negative examples from all 1kb upstream in yeast.\n",
    "neg_seq_list = io.read_fasta_file('./data/yeast-upstream-1k-negative.fa')"
   ]
  },
  {
   "cell_type": "code",
   "execution_count": 3,
   "id": "67262912",
   "metadata": {},
   "outputs": [],
   "source": [
    "# Implement a sampling scheme in the 'sample_seq' function in the preprocess.py file\n",
    "# Explain in your jupyter notebook why chose the sampling scheme that you did.\n",
    "'''\n",
    "Given a specified sample size, the sampling scheme in my preprocess.py file uses numpy's random.choices() \n",
    "function to populate, with replacement, about half of the sample from the positive examples and half\n",
    "from the negative examples. \n",
    "Although some datapoints may be duplicated in the final sample using this strategy, this ensures that there \n",
    "are approximately the same number of postive and negative examples in the final sample.\n",
    "'''\n",
    "pass"
   ]
  },
  {
   "cell_type": "code",
   "execution_count": 4,
   "id": "d705d062",
   "metadata": {},
   "outputs": [
    {
     "name": "stdout",
     "output_type": "stream",
     "text": [
      "Done!\n"
     ]
    }
   ],
   "source": [
    "# Generate a training and a validation set for training your classifier.\n",
    "\n",
    "# First, address class imbalance by sampling with replacement\n",
    "pos_labels = [1 for seq in pos_seq_list]\n",
    "neg_labels = [0 for seq in neg_seq_list]\n",
    "\n",
    "sample_size = len(pos_seq_list) + len(neg_seq_list)\n",
    "seqs, truth_labels = pp.sample_seqs(pos_seq_list+neg_seq_list, pos_labels+neg_labels, sample_size)\n",
    "\n",
    "# One hot encode sequences (NOTE: THIS MIGHT TAKE A WHILE TO RUN!)\n",
    "X = pp.one_hot_encode_seqs(seqs)\n",
    "y = np.expand_dims(np.asarray(truth_labels), axis=1)\n",
    "\n",
    "# Split into training and validation \n",
    "# Place 1/3 of dataset into validation\n",
    "# X_train.shape = (2211, 4000)\n",
    "# y_train.shape = (2211, 1)\n",
    "# X_val.shape = (1089, 4000)\n",
    "# y_val.shape = (1089, 1)\n",
    "\n",
    "X_train, X_val, y_train, y_val = train_test_split(X, y , test_size=0.33, random_state=42)\n",
    "\n",
    "print(\"Done!\")\n"
   ]
  },
  {
   "cell_type": "code",
   "execution_count": 5,
   "id": "e1f9685c",
   "metadata": {},
   "outputs": [
    {
     "name": "stdout",
     "output_type": "stream",
     "text": [
      "Training epoch  1 ...\n",
      "Epoch  1  done!\n",
      "Training epoch  2 ...\n",
      "Epoch  2  done!\n",
      "Training epoch  3 ...\n",
      "Epoch  3  done!\n",
      "Training epoch  4 ...\n",
      "Epoch  4  done!\n",
      "Training epoch  5 ...\n",
      "Epoch  5  done!\n",
      "Training done!\n"
     ]
    }
   ],
   "source": [
    "# Generate an instance of your NeuralNetwork class for the transcription factor classifier\n",
    "arch = [{'input_dim': 4000, 'output_dim': 2000, 'activation': \"sigmoid\"}, {'input_dim': 2000, 'output_dim': 1, 'activation': \"sigmoid\"}]\n",
    "my_nn = NeuralNetwork(arch, \n",
    "\t\t\t\t lr=0.1,\n",
    "\t\t\t\t seed=15,\n",
    "\t\t\t\t batch_size=50,\n",
    "\t\t\t\t epochs=5,\n",
    "\t\t\t\t loss_function=\"bce\")\n",
    "\n",
    "# Train your neural network!\n",
    "per_epoch_loss_train, per_epoch_loss_val = my_nn.fit(X_train, y_train, X_val, y_val)\n"
   ]
  },
  {
   "cell_type": "code",
   "execution_count": 6,
   "id": "4ba51ef0",
   "metadata": {},
   "outputs": [],
   "source": [
    "# Explain your choice of loss function in the jupyter notebook\n",
    "'''\n",
    "For loss function, I chose BCE because the output is binary, so this is the most appropriate way by which to measure loss.\n",
    "'''\n",
    "\n",
    "# Explain your choice of hyperparameters in the jupyter notebook\n",
    "'''\n",
    "For the activation functions, I chose sigmoid because the features and final output are all binary (either 0 or 1), so this \n",
    "activation forces the neural network's predictions to be between 0-1.\n",
    "I chose a batch size of 50 because this still resulted in a very accurate final model without taking too much time to train.\n",
    "A higher batch size resulted in a less accurate model. I could get 100% accuracy with a batch size of 10, but the model would\n",
    "take much longer to train.\n",
    "For the number of epochs, I chose 5, since it seemed like the model had reached pretty good accuracy by the end of epoch #1,\n",
    "and it wasn't improving much more beyond that.\n",
    "For the learning rate, I chose 0.1 because it helped the final model arrive at a good accuracy within the constraints\n",
    "of the other hyperparameters that I had set. A lower learning rate prevented the model from converging to 100% accuracy\n",
    "within 5 epochs, whereas a higher learning rate cause the model to fail to converge.\n",
    "\n",
    "'''\n",
    "pass"
   ]
  },
  {
   "cell_type": "code",
   "execution_count": 7,
   "id": "941cf717",
   "metadata": {},
   "outputs": [
    {
     "name": "stdout",
     "output_type": "stream",
     "text": [
      "[array([0.42774745]), array([0.00022673]), array([0.00022289]), array([0.00021918]), array([0.00021559])]\n",
      "[array([0.37516004]), array([0.00933347]), array([0.00932314]), array([0.009313]), array([0.00930303])]\n"
     ]
    },
    {
     "data": {
      "image/png": "[encoded data removed]",
      "text/plain": [
       "<Figure size 432x288 with 1 Axes>"
      ]
     },
     "metadata": {
      "needs_background": "light"
     },
     "output_type": "display_data"
    },
    {
     "data": {
      "image/png": "[encoded data removed]",
      "text/plain": [
       "<Figure size 432x288 with 1 Axes>"
      ]
     },
     "metadata": {
      "needs_background": "light"
     },
     "output_type": "display_data"
    }
   ],
   "source": [
    "# Plot the training and validation loss curves per epoch\n",
    "# Plot your training and validation loss per epoch\n",
    "print(per_epoch_loss_train)\n",
    "print(per_epoch_loss_val)\n",
    "plt.plot(per_epoch_loss_train)\n",
    "plt.title(\"Training Loss\")\n",
    "plt.xlabel(\"Epoch\")\n",
    "plt.ylabel(\"Loss\")\n",
    "plt.show()\n",
    "\n",
    "plt.plot(per_epoch_loss_val)\n",
    "plt.title(\"Validation Loss\")\n",
    "plt.xlabel(\"Epoch\")\n",
    "plt.ylabel(\"Loss\")\n",
    "plt.show()"
   ]
  },
  {
   "cell_type": "code",
   "execution_count": 8,
   "id": "691c36fe",
   "metadata": {},
   "outputs": [
    {
     "data": {
      "text/plain": [
       "0.9990817263544536"
      ]
     },
     "execution_count": 8,
     "metadata": {},
     "output_type": "execute_result"
    }
   ],
   "source": [
    "# Print out the accuracy of your classifier on your validation dataset\n",
    "y_pred = my_nn.predict(X_val)\n",
    "\n",
    "# Convert predictions to binary outputs\n",
    "y_pred[y_pred>=0.5] = 1\n",
    "y_pred[y_pred<0.5] = 0\n",
    "cf = confusion_matrix(y_val, y_pred)\n",
    "accuracy = (cf[0,0] + cf[1,1]) / np.sum(cf) # (TP+TN)/(TP+TN+FP+FN)\n",
    "accuracy"
   ]
  }
 ],
 "metadata": {
  "kernelspec": {
   "display_name": "Python 3",
   "language": "python",
   "name": "python3"
  },
  "language_info": {
   "codemirror_mode": {
    "name": "ipython",
    "version": 3
   },
   "file_extension": ".py",
   "mimetype": "text/x-python",
   "name": "python",
   "nbconvert_exporter": "python",
   "pygments_lexer": "ipython3",
   "version": "3.8.8"
  }
 },
 "nbformat": 4,
 "nbformat_minor": 5
}
